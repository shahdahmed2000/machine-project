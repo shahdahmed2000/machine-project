{
 "cells": [
  {
   "cell_type": "code",
   "execution_count": null,
   "id": "ce8177f9",
   "metadata": {},
   "outputs": [],
   "source": [
    "import numpy as np\n",
    "import matplotlib.pyplot as plt\n",
    "from skimage.feature import hog\n",
    "from skimage import exposure\n",
    "import os\n",
    "from skimage import io, color, feature\n",
    "from sklearn.model_selection import train_test_split, StratifiedKFold\n",
    "from sklearn.metrics import accuracy_score, classification_report, confusion_matrix, roc_curve, auc, log_loss\n",
    "from sklearn.preprocessing import LabelEncoder, label_binarize\n",
    "import cv2\n",
    "from sklearn.linear_model import SGDClassifier\n",
    "from sklearn.utils import shuffle"
   ]
  },
  {
   "cell_type": "code",
   "execution_count": null,
   "id": "a54a7663",
   "metadata": {},
   "outputs": [],
   "source": [
    "# Function to extract HOG features from an image and visualize it\n",
    "def extract_hog_features(image):\n",
    "    # Convert the image to grayscale\n",
    "    gray_image = color.rgb2gray(image)\n",
    "\n",
    "    # Calculate HOG features\n",
    "    hog_features, hog_image = feature.hog(gray_image, visualize=True)\n",
    "\n",
    "    # Enhance the contrast of the HOG image for better visualization\n",
    "    hog_image_rescaled = exposure.rescale_intensity(hog_image, in_range=(0, 10))\n",
    "\n",
    "    return hog_features, hog_image_rescaled"
   ]
  },
  {
   "cell_type": "code",
   "execution_count": null,
   "id": "6df5edac",
   "metadata": {},
   "outputs": [],
   "source": [
    "# Function to calculate and display the confusion matrix\n",
    "def plot_confusion_matrix(y_true, y_pred, classes, normalize=False, title=None, cmap=plt.cm.Blues):\n",
    "    if not title:\n",
    "        if normalize:\n",
    "            title = 'Normalized Confusion Matrix'\n",
    "        else:\n",
    "            title = 'Confusion Matrix, without Normalization'\n",
    "\n",
    "    # Compute confusion matrix\n",
    "    cm = confusion_matrix(y_true, y_pred)\n",
    "\n",
    "    # Plot the confusion matrix\n",
    "    plt.figure(figsize=(8, 6))\n",
    "    plt.imshow(cm, interpolation='nearest', cmap=cmap)\n",
    "    plt.title(title)\n",
    "    plt.colorbar()\n",
    "\n",
    "    tick_marks = np.arange(len(classes))\n",
    "    plt.xticks(tick_marks, classes, rotation=45)\n",
    "    plt.yticks(tick_marks, classes)\n",
    "\n",
    "    fmt = '.2f' if normalize else 'd'\n",
    "    thresh = cm.max() / 2.\n",
    "    for i in range(cm.shape[0]):\n",
    "        for j in range(cm.shape[1]):\n",
    "            plt.text(j, i, format(cm[i, j], fmt),\n",
    "                     ha=\"center\", va=\"center\",\n",
    "                     color=\"white\" if cm[i, j] > thresh else \"black\")\n",
    "\n",
    "    plt.tight_layout()\n",
    "    plt.xlabel('Predicted Label')\n",
    "    plt.ylabel('True Label')\n",
    "    plt.show()"
   ]
  },
  {
   "cell_type": "code",
   "execution_count": null,
   "id": "b21c8032",
   "metadata": {},
   "outputs": [],
   "source": [
    "# Function to calculate and display the ROC curve\n",
    "def plot_roc_curve(y_true, y_score, classes):\n",
    "    fpr, tpr, _ = roc_curve(y_true, y_score)\n",
    "    roc_auc = auc(fpr, tpr)\n",
    "\n",
    "    # Plot the ROC curve\n",
    "    plt.figure()\n",
    "    plt.plot(fpr, tpr, label=f'ROC curve (area = {roc_auc:.2f})')\n",
    "    plt.plot([0, 1], [0, 1], 'k--')\n",
    "    plt.xlim([0.0, 1.0])\n",
    "    plt.ylim([0.0, 1.05])\n",
    "    plt.xlabel('False Positive Rate')\n",
    "    plt.ylabel('True Positive Rate')\n",
    "    plt.title('Receiver Operating Characteristic (ROC) Curve')\n",
    "    plt.legend(loc=\"lower right\")\n",
    "    plt.show()"
   ]
  },
  {
   "cell_type": "code",
   "execution_count": null,
   "id": "bc7d4d7e",
   "metadata": {},
   "outputs": [],
   "source": [
    "# Function to plot log loss percentage\n",
    "def plot_log_loss_percentage(log_loss_values, classes):\n",
    "    plt.figure(figsize=(10, 6))\n",
    "    plt.bar(classes, log_loss_values, color='blue')\n",
    "    plt.title('Log Loss Percentage for Each Class')\n",
    "    plt.xlabel('Class')\n",
    "    plt.ylabel('Log Loss')\n",
    "    plt.show()"
   ]
  },
  {
   "cell_type": "code",
   "execution_count": null,
   "id": "2b33b186",
   "metadata": {},
   "outputs": [],
   "source": [
    "# Function to calculate and display the loss curve\n",
    "def plot_loss_curve(y_true, model, X_test, y_test):\n",
    "    loss_values = []\n",
    "\n",
    "    for i in range(1, 101):  # Set the maximum number of iterations (adjust as needed)\n",
    "        model.partial_fit(X_train, y_train, classes=np.unique(y_train))\n",
    "        y_prob = model.predict_proba(X_test)\n",
    "        loss = log_loss(y_test, y_prob)\n",
    "        loss_values.append(loss)\n",
    "\n",
    "    # Print the loss values\n",
    "    print(\"Loss Values for Each Iteration:\")\n",
    "    print(loss_values)\n",
    "\n",
    "    # Plot the loss curve\n",
    "    plt.figure(figsize=(8, 6))\n",
    "    plt.plot(range(1, 101), loss_values, label='Loss Curve')\n",
    "    plt.xlabel('Iteration')\n",
    "    plt.ylabel('Log Loss')\n",
    "    plt.title('Loss Curve on Testing Data')\n",
    "    plt.legend()\n",
    "    plt.show()"
   ]
  },
  {
   "cell_type": "code",
   "execution_count": null,
   "id": "47743a01",
   "metadata": {},
   "outputs": [],
   "source": [
    "# Function to apply cross-validation and plot accuracy vs iteration\n",
    "def cross_validate_and_plot(X, y, model, num_iterations=100, num_folds=5):\n",
    "    skf = StratifiedKFold(n_splits=num_folds, shuffle=True, random_state=42)\n",
    "    accuracies = []\n",
    "\n",
    "    for fold, (train_index, test_index) in enumerate(skf.split(X, y), 1):\n",
    "        X_train, X_test = X[train_index], X[test_index]\n",
    "        y_train, y_test = y[train_index], y[test_index]\n",
    "\n",
    "        model.partial_fit(X_train, y_train, classes=np.unique(y_train))\n",
    "\n",
    "        # Evaluate the model on the test set\n",
    "        y_pred = model.predict(X_test)\n",
    "        accuracy = accuracy_score(y_test, y_pred)\n",
    "        accuracies.append(accuracy)\n",
    "\n",
    "        # Print accuracy for each fold\n",
    "        print(f\"Fold {fold} Accuracy: {accuracy}\")\n",
    "\n",
    "    # Calculate and print the mean accuracy\n",
    "    mean_accuracy = np.mean(accuracies)\n",
    "    print(f\"Mean Accuracy across all folds: {mean_accuracy}\")\n",
    "\n",
    "    # Plot accuracy vs iteration\n",
    "    iterations = np.arange(1, num_folds + 1)\n",
    "    plt.figure(figsize=(8, 6))\n",
    "    plt.plot(iterations, accuracies, label='Cross-Validation Accuracy')\n",
    "    plt.xlabel('Fold')\n",
    "    plt.ylabel('Accuracy')\n",
    "    plt.title('Cross-Validation Accuracy Curve')\n",
    "    plt.legend()\n",
    "    plt.show()\n"
   ]
  },
  {
   "cell_type": "code",
   "execution_count": null,
   "id": "5397f60a",
   "metadata": {},
   "outputs": [],
   "source": [
    "# Path to the root folder of your dataset\n",
    "dataset_path = 'D:\\\\collage\\\\third year\\\\first semester\\\\Machine learning\\\\Project\\\\dataset\\\\archive\\\\cell_images\\\\cell_images'"
   ]
  },
  {
   "cell_type": "code",
   "execution_count": null,
   "id": "f250b7a6",
   "metadata": {},
   "outputs": [],
   "source": [
    "# List all subdirectories (assuming each subdirectory corresponds to a class)\n",
    "class_folders = [f.path for f in os.scandir(dataset_path) if f.is_dir()]\n",
    "features_list = []\n",
    "labels_list = []\n",
    "\n",
    "for class_folder in class_folders:\n",
    "    class_name = os.path.basename(class_folder)\n",
    "\n",
    "    # Loop through each image in the class folder\n",
    "    for image_filename in os.listdir(class_folder):\n",
    "        image_path = os.path.join(class_folder, image_filename)\n",
    "\n",
    "        # Load the image\n",
    "        image = io.imread(image_path)\n",
    "\n",
    "        # Resize the image to 64x64\n",
    "        resized_image = cv2.resize(image, (64, 64))\n",
    "\n",
    "        # Extract HOG features and visualize\n",
    "        hog_features, hog_image = extract_hog_features(resized_image)\n",
    "\n",
    "        # Display the original image and the HOG features\n",
    "        fig, (ax1, ax2) = plt.subplots(1, 2, figsize=(2, 2), sharex=True, sharey=True)\n",
    "\n",
    "        ax1.axis('off')\n",
    "        ax1.imshow(resized_image, cmap=plt.cm.gray)\n",
    "\n",
    "        ax2.axis('off')\n",
    "        ax2.imshow(hog_image, cmap=plt.cm.gray)\n",
    "\n",
    "        plt.show()\n",
    "\n",
    "        # Append HOG features to the features list\n",
    "        features_list.append(hog_features)\n",
    "\n",
    "        # Append the label to the labels list\n",
    "        labels_list.append(class_name)\n"
   ]
  },
  {
   "cell_type": "code",
   "execution_count": null,
   "id": "669d328e",
   "metadata": {},
   "outputs": [],
   "source": [
    "# Convert lists to NumPy arrays\n",
    "features_array = np.array(features_list)\n",
    "labels_array = np.array(labels_list)\n",
    "# Use LabelEncoder to convert class names into numeric labels\n",
    "label_encoder = LabelEncoder()\n",
    "numeric_labels = label_encoder.fit_transform(labels_array)\n",
    "# Shuffle the data\n",
    "features_array, numeric_labels = shuffle(features_array, numeric_labels, random_state=42)"
   ]
  },
  {
   "cell_type": "code",
   "execution_count": null,
   "id": "567c39ad",
   "metadata": {},
   "outputs": [],
   "source": [
    "# Initialize logistic regression model for HOG\n",
    "sgd_hog = SGDClassifier(loss='log_loss', max_iter=1000, random_state=42)"
   ]
  },
  {
   "cell_type": "code",
   "execution_count": null,
   "id": "2ad1af2d",
   "metadata": {},
   "outputs": [],
   "source": [
    "# Split the data into training and testing sets\n",
    "X_train, X_test, y_train, y_test = train_test_split(features_array, numeric_labels, test_size=0.2, random_state=42)"
   ]
  },
  {
   "cell_type": "code",
   "execution_count": null,
   "id": "c5c7213e",
   "metadata": {},
   "outputs": [],
   "source": [
    "# Apply cross-validation and plot accuracy vs iteration\n",
    "cross_validate_and_plot(features_array, numeric_labels, sgd_hog, num_iterations=100, num_folds=5)"
   ]
  },
  {
   "cell_type": "code",
   "execution_count": null,
   "id": "51fc8507",
   "metadata": {},
   "outputs": [],
   "source": [
    "# Fit the model on the training data\n",
    "sgd_hog.fit(X_train, y_train)"
   ]
  },
  {
   "cell_type": "code",
   "execution_count": null,
   "id": "58cae228",
   "metadata": {},
   "outputs": [],
   "source": [
    "# Calculate predicted probabilities for each class\n",
    "y_prob_hog = sgd_hog.predict_proba(X_test)"
   ]
  },
  {
   "cell_type": "code",
   "execution_count": null,
   "id": "7f09f978",
   "metadata": {},
   "outputs": [],
   "source": [
    "# Call the function to plot the loss curve\n",
    "plot_loss_curve(y_test, sgd_hog, X_test, y_test)"
   ]
  },
  {
   "cell_type": "code",
   "execution_count": null,
   "id": "9d14ecd7",
   "metadata": {},
   "outputs": [],
   "source": [
    "# Make predictions on the test set\n",
    "y_pred_hog = sgd_hog.predict(X_test)"
   ]
  },
  {
   "cell_type": "code",
   "execution_count": null,
   "id": "aa8777f3",
   "metadata": {},
   "outputs": [],
   "source": [
    "# Evaluate the model\n",
    "accuracy_hog = accuracy_score(y_test, y_pred_hog)\n",
    "classification_rep_hog = classification_report(y_test, y_pred_hog)"
   ]
  },
  {
   "cell_type": "code",
   "execution_count": null,
   "id": "aa46286e",
   "metadata": {},
   "outputs": [],
   "source": [
    "print(f\"Accuracy for HOG: {accuracy_hog}\")\n",
    "print(\"Classification Report for HOG:\")\n",
    "print(classification_rep_hog)"
   ]
  },
  {
   "cell_type": "code",
   "execution_count": null,
   "id": "d66c1cb1",
   "metadata": {},
   "outputs": [],
   "source": [
    "# Calculate and display the confusion matrix for HOG\n",
    "classes_hog = list(label_encoder.classes_)\n",
    "plot_confusion_matrix(y_test, y_pred_hog, classes_hog)"
   ]
  },
  {
   "cell_type": "code",
   "execution_count": null,
   "id": "f3519c3a",
   "metadata": {},
   "outputs": [],
   "source": [
    "# Calculate and display the ROC curve for HOG\n",
    "y_test_bin_hog = label_binarize(y_test, classes=np.unique(y_test))\n",
    "y_score_hog = sgd_hog.decision_function(X_test)\n",
    "plot_roc_curve(y_test, y_score_hog, classes_hog)"
   ]
  },
  {
   "cell_type": "code",
   "execution_count": null,
   "id": "b6b2ccc5",
   "metadata": {},
   "outputs": [],
   "source": []
  }
 ],
 "metadata": {
  "kernelspec": {
   "display_name": "Python 3 (ipykernel)",
   "language": "python",
   "name": "python3"
  },
  "language_info": {
   "codemirror_mode": {
    "name": "ipython",
    "version": 3
   },
   "file_extension": ".py",
   "mimetype": "text/x-python",
   "name": "python",
   "nbconvert_exporter": "python",
   "pygments_lexer": "ipython3",
   "version": "3.11.5"
  }
 },
 "nbformat": 4,
 "nbformat_minor": 5
}
